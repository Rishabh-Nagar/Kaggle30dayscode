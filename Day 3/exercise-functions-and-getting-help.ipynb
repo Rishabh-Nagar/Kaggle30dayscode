{
 "cells": [
  {
   "cell_type": "markdown",
   "id": "49e9e52f",
   "metadata": {
    "papermill": {
     "duration": 0.017266,
     "end_time": "2021-08-08T16:23:35.410913",
     "exception": false,
     "start_time": "2021-08-08T16:23:35.393647",
     "status": "completed"
    },
    "tags": []
   },
   "source": [
    "**This notebook is an exercise in the [Python](https://www.kaggle.com/learn/python) course.  You can reference the tutorial at [this link](https://www.kaggle.com/colinmorris/functions-and-getting-help).**\n",
    "\n",
    "---\n"
   ]
  },
  {
   "cell_type": "markdown",
   "id": "34fe56e2",
   "metadata": {
    "papermill": {
     "duration": 0.014141,
     "end_time": "2021-08-08T16:23:35.440470",
     "exception": false,
     "start_time": "2021-08-08T16:23:35.426329",
     "status": "completed"
    },
    "tags": []
   },
   "source": [
    "Functions are powerful. Try writing some yourself.\n",
    "\n",
    "As before, don't forget to run the setup code below before jumping into question 1."
   ]
  },
  {
   "cell_type": "code",
   "execution_count": 1,
   "id": "59deb49d",
   "metadata": {
    "_kg_hide-input": true,
    "_kg_hide-output": true,
    "execution": {
     "iopub.execute_input": "2021-08-08T16:23:35.473928Z",
     "iopub.status.busy": "2021-08-08T16:23:35.472590Z",
     "iopub.status.idle": "2021-08-08T16:23:35.627383Z",
     "shell.execute_reply": "2021-08-08T16:23:35.626472Z",
     "shell.execute_reply.started": "2021-08-08T16:21:58.632943Z"
    },
    "papermill": {
     "duration": 0.172483,
     "end_time": "2021-08-08T16:23:35.627613",
     "exception": false,
     "start_time": "2021-08-08T16:23:35.455130",
     "status": "completed"
    },
    "tags": []
   },
   "outputs": [
    {
     "name": "stdout",
     "output_type": "stream",
     "text": [
      "Setup complete.\n"
     ]
    }
   ],
   "source": [
    "# SETUP. You don't need to worry for now about what this code does or how it works.\n",
    "from learntools.core import binder; binder.bind(globals())\n",
    "from learntools.python.ex2 import *\n",
    "print('Setup complete.')"
   ]
  },
  {
   "cell_type": "markdown",
   "id": "058c3585",
   "metadata": {
    "papermill": {
     "duration": 0.013939,
     "end_time": "2021-08-08T16:23:35.657349",
     "exception": false,
     "start_time": "2021-08-08T16:23:35.643410",
     "status": "completed"
    },
    "tags": []
   },
   "source": [
    "# 1.\n",
    "\n",
    "Complete the body of the following function according to its docstring.\n",
    "\n",
    "HINT: Python has a built-in function `round`."
   ]
  },
  {
   "cell_type": "code",
   "execution_count": 2,
   "id": "7774d8d3",
   "metadata": {
    "execution": {
     "iopub.execute_input": "2021-08-08T16:23:35.695993Z",
     "iopub.status.busy": "2021-08-08T16:23:35.695332Z",
     "iopub.status.idle": "2021-08-08T16:23:35.699551Z",
     "shell.execute_reply": "2021-08-08T16:23:35.700131Z",
     "shell.execute_reply.started": "2021-08-08T16:21:58.769339Z"
    },
    "papermill": {
     "duration": 0.028343,
     "end_time": "2021-08-08T16:23:35.700311",
     "exception": false,
     "start_time": "2021-08-08T16:23:35.671968",
     "status": "completed"
    },
    "tags": []
   },
   "outputs": [
    {
     "data": {
      "application/javascript": [
       "parent.postMessage({\"jupyterEvent\": \"custom.exercise_interaction\", \"data\": {\"outcomeType\": 1, \"valueTowardsCompletion\": 0.16666666666666666, \"interactionType\": 1, \"questionType\": 2, \"questionId\": \"1_RoundFunctionProblem\", \"learnToolsVersion\": \"0.3.4\", \"failureMessage\": \"\", \"exceptionClass\": \"\", \"trace\": \"\"}}, \"*\")"
      ],
      "text/plain": [
       "<IPython.core.display.Javascript object>"
      ]
     },
     "metadata": {},
     "output_type": "display_data"
    },
    {
     "data": {
      "text/markdown": [
       "<span style=\"color:#33cc33\">Correct</span>"
      ],
      "text/plain": [
       "Correct"
      ]
     },
     "metadata": {},
     "output_type": "display_data"
    }
   ],
   "source": [
    "def round_to_two_places(num):\n",
    "    \"\"\"Return the given number rounded to two decimal places. \n",
    "    r\n",
    "    >>> round_to_two_places(3.14159)\n",
    "    3.14\n",
    "    \"\"\"\n",
    "    return round(num, 2)\n",
    "    # Replace this body with your own code.\n",
    "    # (\"pass\" is a keyword that does literally nothing. We used it as a placeholder\n",
    "    # because after we begin a code block, Python requires at least one line of code)\n",
    "    \n",
    "\n",
    "# Check your answer\n",
    "q1.check()"
   ]
  },
  {
   "cell_type": "code",
   "execution_count": 3,
   "id": "e2e7d4b0",
   "metadata": {
    "execution": {
     "iopub.execute_input": "2021-08-08T16:23:35.735459Z",
     "iopub.status.busy": "2021-08-08T16:23:35.734614Z",
     "iopub.status.idle": "2021-08-08T16:23:35.748797Z",
     "shell.execute_reply": "2021-08-08T16:23:35.748172Z",
     "shell.execute_reply.started": "2021-08-08T16:21:58.781642Z"
    },
    "papermill": {
     "duration": 0.032651,
     "end_time": "2021-08-08T16:23:35.748982",
     "exception": false,
     "start_time": "2021-08-08T16:23:35.716331",
     "status": "completed"
    },
    "tags": []
   },
   "outputs": [
    {
     "data": {
      "application/javascript": [
       "parent.postMessage({\"jupyterEvent\": \"custom.exercise_interaction\", \"data\": {\"interactionType\": 2, \"questionType\": 2, \"questionId\": \"1_RoundFunctionProblem\", \"learnToolsVersion\": \"0.3.4\", \"valueTowardsCompletion\": 0.0, \"failureMessage\": \"\", \"exceptionClass\": \"\", \"trace\": \"\", \"outcomeType\": 4}}, \"*\")"
      ],
      "text/plain": [
       "<IPython.core.display.Javascript object>"
      ]
     },
     "metadata": {},
     "output_type": "display_data"
    },
    {
     "data": {
      "text/markdown": [
       "<span style=\"color:#3366cc\">Hint:</span> Run `help(round)` in the console (or in a code cell) to learn more about the round function. You'll need to use the function's optional second argument."
      ],
      "text/plain": [
       "Hint: Run `help(round)` in the console (or in a code cell) to learn more about the round function. You'll need to use the function's optional second argument."
      ]
     },
     "metadata": {},
     "output_type": "display_data"
    },
    {
     "data": {
      "application/javascript": [
       "parent.postMessage({\"jupyterEvent\": \"custom.exercise_interaction\", \"data\": {\"interactionType\": 3, \"questionType\": 2, \"questionId\": \"1_RoundFunctionProblem\", \"learnToolsVersion\": \"0.3.4\", \"valueTowardsCompletion\": 0.0, \"failureMessage\": \"\", \"exceptionClass\": \"\", \"trace\": \"\", \"outcomeType\": 4}}, \"*\")"
      ],
      "text/plain": [
       "<IPython.core.display.Javascript object>"
      ]
     },
     "metadata": {},
     "output_type": "display_data"
    },
    {
     "data": {
      "text/markdown": [
       "<span style=\"color:#33cc99\">Solution:</span> \n",
       "```python\n",
       "return round(num, 2)\n",
       "```"
      ],
      "text/plain": [
       "Solution: \n",
       "```python\n",
       "return round(num, 2)\n",
       "```"
      ]
     },
     "metadata": {},
     "output_type": "display_data"
    }
   ],
   "source": [
    "# Uncomment the following for a hint\n",
    "q1.hint()\n",
    "# Or uncomment the following to peek at the solution\n",
    "q1.solution()"
   ]
  },
  {
   "cell_type": "markdown",
   "id": "c8e72f0e",
   "metadata": {
    "papermill": {
     "duration": 0.018386,
     "end_time": "2021-08-08T16:23:35.791546",
     "exception": false,
     "start_time": "2021-08-08T16:23:35.773160",
     "status": "completed"
    },
    "tags": []
   },
   "source": [
    "# 2.\n",
    "The help for `round` says that `ndigits` (the second argument) may be negative.\n",
    "What do you think will happen when it is? Try some examples in the following cell."
   ]
  },
  {
   "cell_type": "code",
   "execution_count": 4,
   "id": "5d8a0b13",
   "metadata": {
    "execution": {
     "iopub.execute_input": "2021-08-08T16:23:35.834104Z",
     "iopub.status.busy": "2021-08-08T16:23:35.833344Z",
     "iopub.status.idle": "2021-08-08T16:23:35.837580Z",
     "shell.execute_reply": "2021-08-08T16:23:35.836968Z",
     "shell.execute_reply.started": "2021-08-08T16:21:58.797668Z"
    },
    "papermill": {
     "duration": 0.028335,
     "end_time": "2021-08-08T16:23:35.837754",
     "exception": false,
     "start_time": "2021-08-08T16:23:35.809419",
     "status": "completed"
    },
    "tags": []
   },
   "outputs": [
    {
     "data": {
      "text/plain": [
       "3.13"
      ]
     },
     "execution_count": 4,
     "metadata": {},
     "output_type": "execute_result"
    }
   ],
   "source": [
    "# Put your test code here\n",
    "round(3.1282, 2)"
   ]
  },
  {
   "cell_type": "markdown",
   "id": "00d47e71",
   "metadata": {
    "papermill": {
     "duration": 0.018103,
     "end_time": "2021-08-08T16:23:35.874055",
     "exception": false,
     "start_time": "2021-08-08T16:23:35.855952",
     "status": "completed"
    },
    "tags": []
   },
   "source": [
    "Can you think of a case where this would be useful?  Once you're ready, run the code cell below to see the answer and to receive credit for completing the problem."
   ]
  },
  {
   "cell_type": "code",
   "execution_count": 5,
   "id": "9ac3bcb2",
   "metadata": {
    "execution": {
     "iopub.execute_input": "2021-08-08T16:23:35.915514Z",
     "iopub.status.busy": "2021-08-08T16:23:35.914796Z",
     "iopub.status.idle": "2021-08-08T16:23:35.921005Z",
     "shell.execute_reply": "2021-08-08T16:23:35.920408Z",
     "shell.execute_reply.started": "2021-08-08T16:21:58.806978Z"
    },
    "papermill": {
     "duration": 0.028838,
     "end_time": "2021-08-08T16:23:35.921164",
     "exception": false,
     "start_time": "2021-08-08T16:23:35.892326",
     "status": "completed"
    },
    "tags": []
   },
   "outputs": [
    {
     "data": {
      "application/javascript": [
       "parent.postMessage({\"jupyterEvent\": \"custom.exercise_interaction\", \"data\": {\"interactionType\": 3, \"questionType\": 4, \"questionId\": \"2_RoundNdigitsProblem\", \"learnToolsVersion\": \"0.3.4\", \"valueTowardsCompletion\": 0.0, \"failureMessage\": \"\", \"exceptionClass\": \"\", \"trace\": \"\", \"outcomeType\": 4}}, \"*\")"
      ],
      "text/plain": [
       "<IPython.core.display.Javascript object>"
      ]
     },
     "metadata": {},
     "output_type": "display_data"
    },
    {
     "data": {
      "text/markdown": [
       "<span style=\"color:#33cc99\">Solution:</span> As you've seen, `ndigits=-1` rounds to the nearest 10, `ndigits=-2` rounds to the nearest 100 and so on. Where might this be useful? Suppose we're dealing with large numbers:\n",
       "\n",
       "> The area of Finland is 338,424 km²  \n",
       "> The area of Greenland is 2,166,086 km²\n",
       "\n",
       "We probably don't care whether it's really 338,424, or 338,425, or 338,177. All those digits of accuracy are just distracting. We can chop them off by calling `round()` with `ndigits=-3`:\n",
       "\n",
       "> The area of Finland is 338,000 km²  \n",
       "> The area of Greenland is 2,166,000 km²\n",
       "\n",
       "(We'll talk about how we would get the commas later when we talk about string formatting :))\n"
      ],
      "text/plain": [
       "Solution: As you've seen, `ndigits=-1` rounds to the nearest 10, `ndigits=-2` rounds to the nearest 100 and so on. Where might this be useful? Suppose we're dealing with large numbers:\n",
       "\n",
       "> The area of Finland is 338,424 km²  \n",
       "> The area of Greenland is 2,166,086 km²\n",
       "\n",
       "We probably don't care whether it's really 338,424, or 338,425, or 338,177. All those digits of accuracy are just distracting. We can chop them off by calling `round()` with `ndigits=-3`:\n",
       "\n",
       "> The area of Finland is 338,000 km²  \n",
       "> The area of Greenland is 2,166,000 km²\n",
       "\n",
       "(We'll talk about how we would get the commas later when we talk about string formatting :))"
      ]
     },
     "metadata": {},
     "output_type": "display_data"
    }
   ],
   "source": [
    "# Check your answer (Run this code cell to receive credit!)\n",
    "q2.solution()"
   ]
  },
  {
   "cell_type": "markdown",
   "id": "38c015c9",
   "metadata": {
    "papermill": {
     "duration": 0.018725,
     "end_time": "2021-08-08T16:23:35.958548",
     "exception": false,
     "start_time": "2021-08-08T16:23:35.939823",
     "status": "completed"
    },
    "tags": []
   },
   "source": [
    "# 3.\n",
    "\n",
    "In the previous exercise, the candy-sharing friends Alice, Bob and Carol tried to split candies evenly. For the sake of their friendship, any candies left over would be smashed. For example, if they collectively bring home 91 candies, they'll take 30 each and smash 1.\n",
    "\n",
    "Below is a simple function that will calculate the number of candies to smash for *any* number of total candies.\n",
    "\n",
    "Modify it so that it optionally takes a second argument representing the number of friends the candies are being split between. If no second argument is provided, it should assume 3 friends, as before.\n",
    "\n",
    "Update the docstring to reflect this new behaviour."
   ]
  },
  {
   "cell_type": "code",
   "execution_count": 6,
   "id": "2c3a9dbc",
   "metadata": {
    "execution": {
     "iopub.execute_input": "2021-08-08T16:23:36.001583Z",
     "iopub.status.busy": "2021-08-08T16:23:36.000797Z",
     "iopub.status.idle": "2021-08-08T16:23:36.007129Z",
     "shell.execute_reply": "2021-08-08T16:23:36.006187Z",
     "shell.execute_reply.started": "2021-08-08T16:21:58.821906Z"
    },
    "papermill": {
     "duration": 0.030235,
     "end_time": "2021-08-08T16:23:36.007283",
     "exception": false,
     "start_time": "2021-08-08T16:23:35.977048",
     "status": "completed"
    },
    "tags": []
   },
   "outputs": [
    {
     "data": {
      "application/javascript": [
       "parent.postMessage({\"jupyterEvent\": \"custom.exercise_interaction\", \"data\": {\"outcomeType\": 1, \"valueTowardsCompletion\": 0.16666666666666666, \"interactionType\": 1, \"questionType\": 2, \"questionId\": \"3_CandySmashingFunctionProblem\", \"learnToolsVersion\": \"0.3.4\", \"failureMessage\": \"\", \"exceptionClass\": \"\", \"trace\": \"\"}}, \"*\")"
      ],
      "text/plain": [
       "<IPython.core.display.Javascript object>"
      ]
     },
     "metadata": {},
     "output_type": "display_data"
    },
    {
     "data": {
      "text/markdown": [
       "<span style=\"color:#33cc33\">Correct</span>"
      ],
      "text/plain": [
       "Correct"
      ]
     },
     "metadata": {},
     "output_type": "display_data"
    }
   ],
   "source": [
    "def to_smash(total_candies, No_of_friends=3):\n",
    "    \n",
    "    return total_candies % No_of_friends\n",
    "    \n",
    "    \"\"\"Return the number of leftover candies that must be smashed after distributing\n",
    "    the given number of candies evenly between 3 friends.\n",
    "    \n",
    "    >>> to_smash(91)\n",
    "    1\n",
    "    \"\"\"\n",
    "    \n",
    "\n",
    "# Check your answer\n",
    "q3.check()"
   ]
  },
  {
   "cell_type": "code",
   "execution_count": 7,
   "id": "c96eca26",
   "metadata": {
    "execution": {
     "iopub.execute_input": "2021-08-08T16:23:36.050351Z",
     "iopub.status.busy": "2021-08-08T16:23:36.049662Z",
     "iopub.status.idle": "2021-08-08T16:23:36.057539Z",
     "shell.execute_reply": "2021-08-08T16:23:36.056989Z",
     "shell.execute_reply.started": "2021-08-08T16:21:58.832400Z"
    },
    "papermill": {
     "duration": 0.030467,
     "end_time": "2021-08-08T16:23:36.057714",
     "exception": false,
     "start_time": "2021-08-08T16:23:36.027247",
     "status": "completed"
    },
    "tags": []
   },
   "outputs": [
    {
     "data": {
      "application/javascript": [
       "parent.postMessage({\"jupyterEvent\": \"custom.exercise_interaction\", \"data\": {\"interactionType\": 2, \"questionType\": 2, \"questionId\": \"3_CandySmashingFunctionProblem\", \"learnToolsVersion\": \"0.3.4\", \"valueTowardsCompletion\": 0.0, \"failureMessage\": \"\", \"exceptionClass\": \"\", \"trace\": \"\", \"outcomeType\": 4}}, \"*\")"
      ],
      "text/plain": [
       "<IPython.core.display.Javascript object>"
      ]
     },
     "metadata": {},
     "output_type": "display_data"
    },
    {
     "data": {
      "text/markdown": [
       "<span style=\"color:#3366cc\">Hint:</span> Refer to the section of the last tutorial notebook where we talked about default arguments"
      ],
      "text/plain": [
       "Hint: Refer to the section of the last tutorial notebook where we talked about default arguments"
      ]
     },
     "metadata": {},
     "output_type": "display_data"
    }
   ],
   "source": [
    "q3.hint()"
   ]
  },
  {
   "cell_type": "code",
   "execution_count": 8,
   "id": "b7d19d82",
   "metadata": {
    "execution": {
     "iopub.execute_input": "2021-08-08T16:23:36.105297Z",
     "iopub.status.busy": "2021-08-08T16:23:36.104607Z",
     "iopub.status.idle": "2021-08-08T16:23:36.110850Z",
     "shell.execute_reply": "2021-08-08T16:23:36.110336Z",
     "shell.execute_reply.started": "2021-08-08T16:21:58.844333Z"
    },
    "papermill": {
     "duration": 0.032097,
     "end_time": "2021-08-08T16:23:36.110984",
     "exception": false,
     "start_time": "2021-08-08T16:23:36.078887",
     "status": "completed"
    },
    "tags": []
   },
   "outputs": [
    {
     "data": {
      "application/javascript": [
       "parent.postMessage({\"jupyterEvent\": \"custom.exercise_interaction\", \"data\": {\"interactionType\": 3, \"questionType\": 2, \"questionId\": \"3_CandySmashingFunctionProblem\", \"learnToolsVersion\": \"0.3.4\", \"valueTowardsCompletion\": 0.0, \"failureMessage\": \"\", \"exceptionClass\": \"\", \"trace\": \"\", \"outcomeType\": 4}}, \"*\")"
      ],
      "text/plain": [
       "<IPython.core.display.Javascript object>"
      ]
     },
     "metadata": {},
     "output_type": "display_data"
    },
    {
     "data": {
      "text/markdown": [
       "<span style=\"color:#33cc99\">Solution:</span> \n",
       "```python\n",
       "def to_smash(total_candies, n_friends=3):\n",
       "    return total_candies % n_friends\n",
       "```"
      ],
      "text/plain": [
       "Solution: \n",
       "```python\n",
       "def to_smash(total_candies, n_friends=3):\n",
       "    return total_candies % n_friends\n",
       "```"
      ]
     },
     "metadata": {},
     "output_type": "display_data"
    }
   ],
   "source": [
    "q3.solution()"
   ]
  },
  {
   "cell_type": "markdown",
   "id": "397988ff",
   "metadata": {
    "papermill": {
     "duration": 0.024292,
     "end_time": "2021-08-08T16:23:36.159718",
     "exception": false,
     "start_time": "2021-08-08T16:23:36.135426",
     "status": "completed"
    },
    "tags": []
   },
   "source": [
    "# 4. (Optional)\n",
    "\n",
    "It may not be fun, but reading and understanding error messages will be an important part of your Python career.\n",
    "\n",
    "Each code cell below contains some commented buggy code. For each cell...\n",
    "\n",
    "1. Read the code and predict what you think will happen when it's run.\n",
    "2. Then uncomment the code and run it to see what happens. (**Tip**: In the kernel editor, you can highlight several lines and press `ctrl`+`/` to toggle commenting.)\n",
    "3. Fix the code (so that it accomplishes its intended purpose without throwing an exception)\n",
    "\n",
    "<!-- TODO: should this be autochecked? Delta is probably pretty small. -->"
   ]
  },
  {
   "cell_type": "code",
   "execution_count": 9,
   "id": "1defb7fa",
   "metadata": {
    "execution": {
     "iopub.execute_input": "2021-08-08T16:23:36.210207Z",
     "iopub.status.busy": "2021-08-08T16:23:36.209409Z",
     "iopub.status.idle": "2021-08-08T16:23:36.215966Z",
     "shell.execute_reply": "2021-08-08T16:23:36.215319Z",
     "shell.execute_reply.started": "2021-08-08T16:21:58.859128Z"
    },
    "papermill": {
     "duration": 0.032712,
     "end_time": "2021-08-08T16:23:36.216133",
     "exception": false,
     "start_time": "2021-08-08T16:23:36.183421",
     "status": "completed"
    },
    "tags": []
   },
   "outputs": [
    {
     "data": {
      "text/plain": [
       "10.0"
      ]
     },
     "execution_count": 9,
     "metadata": {},
     "output_type": "execute_result"
    }
   ],
   "source": [
    "round(9.9999, 2)"
   ]
  },
  {
   "cell_type": "code",
   "execution_count": 10,
   "id": "42f6a3ad",
   "metadata": {
    "execution": {
     "iopub.execute_input": "2021-08-08T16:23:36.269221Z",
     "iopub.status.busy": "2021-08-08T16:23:36.268502Z",
     "iopub.status.idle": "2021-08-08T16:23:36.272597Z",
     "shell.execute_reply": "2021-08-08T16:23:36.271507Z",
     "shell.execute_reply.started": "2021-08-08T16:22:32.689005Z"
    },
    "papermill": {
     "duration": 0.032942,
     "end_time": "2021-08-08T16:23:36.272792",
     "exception": false,
     "start_time": "2021-08-08T16:23:36.239850",
     "status": "completed"
    },
    "tags": []
   },
   "outputs": [
    {
     "name": "stdout",
     "output_type": "stream",
     "text": [
      "5\n"
     ]
    }
   ],
   "source": [
    "x = -10\n",
    "y = 5\n",
    "# Which of the two variables above has the smallest absolute value?\n",
    "smallest_abs = y #min(abs(x) ,abs(y))\n",
    "print(smallest_abs)"
   ]
  },
  {
   "cell_type": "code",
   "execution_count": 11,
   "id": "47027e60",
   "metadata": {
    "execution": {
     "iopub.execute_input": "2021-08-08T16:23:36.325086Z",
     "iopub.status.busy": "2021-08-08T16:23:36.324140Z",
     "iopub.status.idle": "2021-08-08T16:23:36.330152Z",
     "shell.execute_reply": "2021-08-08T16:23:36.330660Z",
     "shell.execute_reply.started": "2021-08-08T16:22:39.328497Z"
    },
    "papermill": {
     "duration": 0.033817,
     "end_time": "2021-08-08T16:23:36.330820",
     "exception": false,
     "start_time": "2021-08-08T16:23:36.297003",
     "status": "completed"
    },
    "tags": []
   },
   "outputs": [
    {
     "name": "stdout",
     "output_type": "stream",
     "text": [
      "5\n"
     ]
    }
   ],
   "source": [
    "def f(x):\n",
    "    y = abs(x)\n",
    "    return y\n",
    "\n",
    "print(f(5))"
   ]
  },
  {
   "cell_type": "markdown",
   "id": "4d8453ba",
   "metadata": {
    "papermill": {
     "duration": 0.022062,
     "end_time": "2021-08-08T16:23:36.375371",
     "exception": false,
     "start_time": "2021-08-08T16:23:36.353309",
     "status": "completed"
    },
    "tags": []
   },
   "source": [
    "# Keep Going\n",
    "\n",
    "Nice job with the code. Next up, you'll learn about *conditionals*, which you'll need to **[write interesting programs](https://www.kaggle.com/colinmorris/booleans-and-conditionals)**. "
   ]
  },
  {
   "cell_type": "markdown",
   "id": "f9b557f7",
   "metadata": {
    "papermill": {
     "duration": 0.022311,
     "end_time": "2021-08-08T16:23:36.420042",
     "exception": false,
     "start_time": "2021-08-08T16:23:36.397731",
     "status": "completed"
    },
    "tags": []
   },
   "source": [
    "---\n",
    "\n",
    "\n",
    "\n",
    "\n",
    "*Have questions or comments? Visit the [Learn Discussion forum](https://www.kaggle.com/learn-forum/161283) to chat with other Learners.*"
   ]
  }
 ],
 "metadata": {
  "kernelspec": {
   "display_name": "Python 3",
   "language": "python",
   "name": "python3"
  },
  "language_info": {
   "codemirror_mode": {
    "name": "ipython",
    "version": 3
   },
   "file_extension": ".py",
   "mimetype": "text/x-python",
   "name": "python",
   "nbconvert_exporter": "python",
   "pygments_lexer": "ipython3",
   "version": "3.7.10"
  },
  "papermill": {
   "default_parameters": {},
   "duration": 9.61264,
   "end_time": "2021-08-08T16:23:37.051742",
   "environment_variables": {},
   "exception": null,
   "input_path": "__notebook__.ipynb",
   "output_path": "__notebook__.ipynb",
   "parameters": {},
   "start_time": "2021-08-08T16:23:27.439102",
   "version": "2.3.3"
  }
 },
 "nbformat": 4,
 "nbformat_minor": 5
}
