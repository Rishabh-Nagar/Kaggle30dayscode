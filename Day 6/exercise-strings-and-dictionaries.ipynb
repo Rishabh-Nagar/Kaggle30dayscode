{
 "cells": [
  {
   "cell_type": "markdown",
   "id": "922b050c",
   "metadata": {
    "papermill": {
     "duration": 0.01961,
     "end_time": "2021-08-08T18:42:59.365680",
     "exception": false,
     "start_time": "2021-08-08T18:42:59.346070",
     "status": "completed"
    },
    "tags": []
   },
   "source": [
    "**This notebook is an exercise in the [Python](https://www.kaggle.com/learn/python) course.  You can reference the tutorial at [this link](https://www.kaggle.com/colinmorris/strings-and-dictionaries).**\n",
    "\n",
    "---\n"
   ]
  },
  {
   "cell_type": "markdown",
   "id": "75b440f1",
   "metadata": {
    "papermill": {
     "duration": 0.016344,
     "end_time": "2021-08-08T18:42:59.399298",
     "exception": false,
     "start_time": "2021-08-08T18:42:59.382954",
     "status": "completed"
    },
    "tags": []
   },
   "source": [
    "You are almost done with the course. Nice job!\n",
    "\n",
    "We have a couple more interesting problems for you before you go. \n",
    "\n",
    "As always, run the setup code below before working on the questions."
   ]
  },
  {
   "cell_type": "code",
   "execution_count": 1,
   "id": "69c0e0ff",
   "metadata": {
    "execution": {
     "iopub.execute_input": "2021-08-08T18:42:59.440402Z",
     "iopub.status.busy": "2021-08-08T18:42:59.438575Z",
     "iopub.status.idle": "2021-08-08T18:42:59.589162Z",
     "shell.execute_reply": "2021-08-08T18:42:59.588418Z",
     "shell.execute_reply.started": "2021-08-08T18:39:39.844442Z"
    },
    "papermill": {
     "duration": 0.173476,
     "end_time": "2021-08-08T18:42:59.589328",
     "exception": false,
     "start_time": "2021-08-08T18:42:59.415852",
     "status": "completed"
    },
    "tags": []
   },
   "outputs": [
    {
     "name": "stdout",
     "output_type": "stream",
     "text": [
      "Setup complete.\n"
     ]
    }
   ],
   "source": [
    "from learntools.core import binder; binder.bind(globals())\n",
    "from learntools.python.ex6 import *\n",
    "print('Setup complete.')"
   ]
  },
  {
   "cell_type": "markdown",
   "id": "c0a148df",
   "metadata": {
    "papermill": {
     "duration": 0.016158,
     "end_time": "2021-08-08T18:42:59.622490",
     "exception": false,
     "start_time": "2021-08-08T18:42:59.606332",
     "status": "completed"
    },
    "tags": []
   },
   "source": [
    "Let's start with a string lightning round to warm up. What are the lengths of the strings below?\n",
    "\n",
    "For each of the five strings below, predict what `len()` would return when passed that string. Use the variable `length` to record your answer, then run the cell to check whether you were right.  \n",
    "\n",
    "# 0a."
   ]
  },
  {
   "cell_type": "code",
   "execution_count": 2,
   "id": "fd3a77c0",
   "metadata": {
    "execution": {
     "iopub.execute_input": "2021-08-08T18:42:59.665718Z",
     "iopub.status.busy": "2021-08-08T18:42:59.659431Z",
     "iopub.status.idle": "2021-08-08T18:42:59.670463Z",
     "shell.execute_reply": "2021-08-08T18:42:59.671006Z",
     "shell.execute_reply.started": "2021-08-08T18:39:44.977613Z"
    },
    "papermill": {
     "duration": 0.032307,
     "end_time": "2021-08-08T18:42:59.671172",
     "exception": false,
     "start_time": "2021-08-08T18:42:59.638865",
     "status": "completed"
    },
    "tags": []
   },
   "outputs": [
    {
     "data": {
      "application/javascript": [
       "parent.postMessage({\"jupyterEvent\": \"custom.exercise_interaction\", \"data\": {\"outcomeType\": 1, \"valueTowardsCompletion\": 0.3333333333333333, \"interactionType\": 1, \"questionType\": 1, \"questionId\": \"0.1_ZA\", \"learnToolsVersion\": \"0.3.4\", \"failureMessage\": \"\", \"exceptionClass\": \"\", \"trace\": \"\"}}, \"*\")"
      ],
      "text/plain": [
       "<IPython.core.display.Javascript object>"
      ]
     },
     "metadata": {},
     "output_type": "display_data"
    },
    {
     "data": {
      "text/markdown": [
       "<span style=\"color:#33cc33\">Correct:</span> \n",
       "\n",
       "The empty string has length zero. Note that the empty string is also the only string that Python considers as False when converting to boolean."
      ],
      "text/plain": [
       "Correct: \n",
       "\n",
       "The empty string has length zero. Note that the empty string is also the only string that Python considers as False when converting to boolean."
      ]
     },
     "metadata": {},
     "output_type": "display_data"
    }
   ],
   "source": [
    "a = \"\"\n",
    "length = 0\n",
    "q0.a.check()"
   ]
  },
  {
   "cell_type": "markdown",
   "id": "73b44668",
   "metadata": {
    "papermill": {
     "duration": 0.017424,
     "end_time": "2021-08-08T18:42:59.706688",
     "exception": false,
     "start_time": "2021-08-08T18:42:59.689264",
     "status": "completed"
    },
    "tags": []
   },
   "source": [
    "# 0b."
   ]
  },
  {
   "cell_type": "code",
   "execution_count": 3,
   "id": "0b317b60",
   "metadata": {
    "execution": {
     "iopub.execute_input": "2021-08-08T18:42:59.748068Z",
     "iopub.status.busy": "2021-08-08T18:42:59.747427Z",
     "iopub.status.idle": "2021-08-08T18:42:59.753850Z",
     "shell.execute_reply": "2021-08-08T18:42:59.754391Z",
     "shell.execute_reply.started": "2021-08-08T18:39:52.056342Z"
    },
    "papermill": {
     "duration": 0.0302,
     "end_time": "2021-08-08T18:42:59.754555",
     "exception": false,
     "start_time": "2021-08-08T18:42:59.724355",
     "status": "completed"
    },
    "tags": []
   },
   "outputs": [
    {
     "data": {
      "application/javascript": [
       "parent.postMessage({\"jupyterEvent\": \"custom.exercise_interaction\", \"data\": {\"outcomeType\": 1, \"valueTowardsCompletion\": 0.3333333333333333, \"interactionType\": 1, \"questionType\": 1, \"questionId\": \"0.2_ZB\", \"learnToolsVersion\": \"0.3.4\", \"failureMessage\": \"\", \"exceptionClass\": \"\", \"trace\": \"\"}}, \"*\")"
      ],
      "text/plain": [
       "<IPython.core.display.Javascript object>"
      ]
     },
     "metadata": {},
     "output_type": "display_data"
    },
    {
     "data": {
      "text/markdown": [
       "<span style=\"color:#33cc33\">Correct:</span> \n",
       "\n",
       "Keep in mind Python includes spaces (and punctuation) when counting string length."
      ],
      "text/plain": [
       "Correct: \n",
       "\n",
       "Keep in mind Python includes spaces (and punctuation) when counting string length."
      ]
     },
     "metadata": {},
     "output_type": "display_data"
    }
   ],
   "source": [
    "b = \"it's ok\"\n",
    "length = 7\n",
    "q0.b.check()"
   ]
  },
  {
   "cell_type": "markdown",
   "id": "c587b82c",
   "metadata": {
    "papermill": {
     "duration": 0.018214,
     "end_time": "2021-08-08T18:42:59.791467",
     "exception": false,
     "start_time": "2021-08-08T18:42:59.773253",
     "status": "completed"
    },
    "tags": []
   },
   "source": [
    "# 0c."
   ]
  },
  {
   "cell_type": "code",
   "execution_count": 4,
   "id": "5e94a610",
   "metadata": {
    "execution": {
     "iopub.execute_input": "2021-08-08T18:42:59.831404Z",
     "iopub.status.busy": "2021-08-08T18:42:59.830738Z",
     "iopub.status.idle": "2021-08-08T18:42:59.837351Z",
     "shell.execute_reply": "2021-08-08T18:42:59.837863Z",
     "shell.execute_reply.started": "2021-08-08T18:39:58.791163Z"
    },
    "papermill": {
     "duration": 0.02819,
     "end_time": "2021-08-08T18:42:59.838061",
     "exception": false,
     "start_time": "2021-08-08T18:42:59.809871",
     "status": "completed"
    },
    "tags": []
   },
   "outputs": [
    {
     "data": {
      "application/javascript": [
       "parent.postMessage({\"jupyterEvent\": \"custom.exercise_interaction\", \"data\": {\"outcomeType\": 1, \"valueTowardsCompletion\": 0.3333333333333333, \"interactionType\": 1, \"questionType\": 1, \"questionId\": \"0.3_ZC\", \"learnToolsVersion\": \"0.3.4\", \"failureMessage\": \"\", \"exceptionClass\": \"\", \"trace\": \"\"}}, \"*\")"
      ],
      "text/plain": [
       "<IPython.core.display.Javascript object>"
      ]
     },
     "metadata": {},
     "output_type": "display_data"
    },
    {
     "data": {
      "text/markdown": [
       "<span style=\"color:#33cc33\">Correct:</span> \n",
       "\n",
       "Even though we use different syntax to create it, the string `c` is identical to `b`. In particular, note that the backslash is not part of the string, so it doesn't contribute to its length."
      ],
      "text/plain": [
       "Correct: \n",
       "\n",
       "Even though we use different syntax to create it, the string `c` is identical to `b`. In particular, note that the backslash is not part of the string, so it doesn't contribute to its length."
      ]
     },
     "metadata": {},
     "output_type": "display_data"
    }
   ],
   "source": [
    "c = 'it\\'s ok'\n",
    "length = 7\n",
    "q0.c.check()"
   ]
  },
  {
   "cell_type": "markdown",
   "id": "3d783a16",
   "metadata": {
    "papermill": {
     "duration": 0.019121,
     "end_time": "2021-08-08T18:42:59.877297",
     "exception": false,
     "start_time": "2021-08-08T18:42:59.858176",
     "status": "completed"
    },
    "tags": []
   },
   "source": [
    "# 0d."
   ]
  },
  {
   "cell_type": "code",
   "execution_count": 5,
   "id": "49fe1f27",
   "metadata": {
    "execution": {
     "iopub.execute_input": "2021-08-08T18:42:59.920560Z",
     "iopub.status.busy": "2021-08-08T18:42:59.919874Z",
     "iopub.status.idle": "2021-08-08T18:42:59.926793Z",
     "shell.execute_reply": "2021-08-08T18:42:59.927337Z",
     "shell.execute_reply.started": "2021-08-08T18:40:32.607245Z"
    },
    "papermill": {
     "duration": 0.029735,
     "end_time": "2021-08-08T18:42:59.927509",
     "exception": false,
     "start_time": "2021-08-08T18:42:59.897774",
     "status": "completed"
    },
    "tags": []
   },
   "outputs": [
    {
     "data": {
      "application/javascript": [
       "parent.postMessage({\"jupyterEvent\": \"custom.exercise_interaction\", \"data\": {\"outcomeType\": 1, \"valueTowardsCompletion\": 0.3333333333333333, \"interactionType\": 1, \"questionType\": 1, \"questionId\": \"0.4_ZD\", \"learnToolsVersion\": \"0.3.4\", \"failureMessage\": \"\", \"exceptionClass\": \"\", \"trace\": \"\"}}, \"*\")"
      ],
      "text/plain": [
       "<IPython.core.display.Javascript object>"
      ]
     },
     "metadata": {},
     "output_type": "display_data"
    },
    {
     "data": {
      "text/markdown": [
       "<span style=\"color:#33cc33\">Correct:</span> \n",
       "\n",
       "The fact that this string was created using triple-quote syntax doesn't make any difference in terms of its content or length. This string is exactly the same as `'hey'`."
      ],
      "text/plain": [
       "Correct: \n",
       "\n",
       "The fact that this string was created using triple-quote syntax doesn't make any difference in terms of its content or length. This string is exactly the same as `'hey'`."
      ]
     },
     "metadata": {},
     "output_type": "display_data"
    }
   ],
   "source": [
    "d = \"\"\"hey\"\"\"\n",
    "length = 3\n",
    "q0.d.check()"
   ]
  },
  {
   "cell_type": "markdown",
   "id": "7ad97e49",
   "metadata": {
    "papermill": {
     "duration": 0.020089,
     "end_time": "2021-08-08T18:42:59.968169",
     "exception": false,
     "start_time": "2021-08-08T18:42:59.948080",
     "status": "completed"
    },
    "tags": []
   },
   "source": [
    "# 0e."
   ]
  },
  {
   "cell_type": "code",
   "execution_count": 6,
   "id": "b751ec79",
   "metadata": {
    "execution": {
     "iopub.execute_input": "2021-08-08T18:43:00.012102Z",
     "iopub.status.busy": "2021-08-08T18:43:00.011474Z",
     "iopub.status.idle": "2021-08-08T18:43:00.018570Z",
     "shell.execute_reply": "2021-08-08T18:43:00.019071Z",
     "shell.execute_reply.started": "2021-08-08T18:40:42.090674Z"
    },
    "papermill": {
     "duration": 0.030596,
     "end_time": "2021-08-08T18:43:00.019248",
     "exception": false,
     "start_time": "2021-08-08T18:42:59.988652",
     "status": "completed"
    },
    "tags": []
   },
   "outputs": [
    {
     "data": {
      "application/javascript": [
       "parent.postMessage({\"jupyterEvent\": \"custom.exercise_interaction\", \"data\": {\"outcomeType\": 1, \"valueTowardsCompletion\": 0.3333333333333333, \"interactionType\": 1, \"questionType\": 1, \"questionId\": \"0.5_ZE\", \"learnToolsVersion\": \"0.3.4\", \"failureMessage\": \"\", \"exceptionClass\": \"\", \"trace\": \"\"}}, \"*\")"
      ],
      "text/plain": [
       "<IPython.core.display.Javascript object>"
      ]
     },
     "metadata": {},
     "output_type": "display_data"
    },
    {
     "data": {
      "text/markdown": [
       "<span style=\"color:#33cc33\">Correct:</span> \n",
       "\n",
       "The newline character is just a single character! (Even though we represent it to Python using a combination of two characters.)"
      ],
      "text/plain": [
       "Correct: \n",
       "\n",
       "The newline character is just a single character! (Even though we represent it to Python using a combination of two characters.)"
      ]
     },
     "metadata": {},
     "output_type": "display_data"
    }
   ],
   "source": [
    "e = '\\n'\n",
    "length = 1\n",
    "q0.e.check()"
   ]
  },
  {
   "cell_type": "markdown",
   "id": "263e8d53",
   "metadata": {
    "papermill": {
     "duration": 0.021763,
     "end_time": "2021-08-08T18:43:00.062572",
     "exception": false,
     "start_time": "2021-08-08T18:43:00.040809",
     "status": "completed"
    },
    "tags": []
   },
   "source": [
    "# 1.\n",
    "\n",
    "There is a saying that \"Data scientists spend 80% of their time cleaning data, and 20% of their time complaining about cleaning data.\" Let's see if you can write a function to help clean US zip code data. Given a string, it should return whether or not that string represents a valid zip code. For our purposes, a valid zip code is any string consisting of exactly 5 digits.\n",
    "\n",
    "HINT: `str` has a method that will be useful here. Use `help(str)` to review a list of string methods."
   ]
  },
  {
   "cell_type": "code",
   "execution_count": 7,
   "id": "f520dbb3",
   "metadata": {
    "execution": {
     "iopub.execute_input": "2021-08-08T18:43:00.109246Z",
     "iopub.status.busy": "2021-08-08T18:43:00.108621Z",
     "iopub.status.idle": "2021-08-08T18:43:00.117675Z",
     "shell.execute_reply": "2021-08-08T18:43:00.118143Z",
     "shell.execute_reply.started": "2021-08-08T18:40:46.510252Z"
    },
    "papermill": {
     "duration": 0.033562,
     "end_time": "2021-08-08T18:43:00.118341",
     "exception": false,
     "start_time": "2021-08-08T18:43:00.084779",
     "status": "completed"
    },
    "tags": []
   },
   "outputs": [
    {
     "data": {
      "application/javascript": [
       "parent.postMessage({\"jupyterEvent\": \"custom.exercise_interaction\", \"data\": {\"outcomeType\": 1, \"valueTowardsCompletion\": 0.3333333333333333, \"interactionType\": 1, \"questionType\": 2, \"questionId\": \"1_ZipValidator\", \"learnToolsVersion\": \"0.3.4\", \"failureMessage\": \"\", \"exceptionClass\": \"\", \"trace\": \"\"}}, \"*\")"
      ],
      "text/plain": [
       "<IPython.core.display.Javascript object>"
      ]
     },
     "metadata": {},
     "output_type": "display_data"
    },
    {
     "data": {
      "text/markdown": [
       "<span style=\"color:#33cc33\">Correct</span>"
      ],
      "text/plain": [
       "Correct"
      ]
     },
     "metadata": {},
     "output_type": "display_data"
    }
   ],
   "source": [
    "def is_valid_zip(zip_code):\n",
    "    \"\"\"Returns whether the input string is a valid (5 digit) zip code\n",
    "    \"\"\"\n",
    "    if zip_code.isdigit()==True and len(zip_code)==5:\n",
    "        return True\n",
    "    else:\n",
    "        return False\n",
    "    \n",
    "\n",
    "# Check your answer\n",
    "q1.check()"
   ]
  },
  {
   "cell_type": "code",
   "execution_count": 8,
   "id": "ab7dce45",
   "metadata": {
    "execution": {
     "iopub.execute_input": "2021-08-08T18:43:00.169760Z",
     "iopub.status.busy": "2021-08-08T18:43:00.168719Z",
     "iopub.status.idle": "2021-08-08T18:43:00.174885Z",
     "shell.execute_reply": "2021-08-08T18:43:00.174346Z",
     "shell.execute_reply.started": "2021-08-08T18:40:47.595548Z"
    },
    "papermill": {
     "duration": 0.033941,
     "end_time": "2021-08-08T18:43:00.175040",
     "exception": false,
     "start_time": "2021-08-08T18:43:00.141099",
     "status": "completed"
    },
    "tags": []
   },
   "outputs": [
    {
     "data": {
      "application/javascript": [
       "parent.postMessage({\"jupyterEvent\": \"custom.exercise_interaction\", \"data\": {\"interactionType\": 3, \"questionType\": 2, \"questionId\": \"1_ZipValidator\", \"learnToolsVersion\": \"0.3.4\", \"valueTowardsCompletion\": 0.0, \"failureMessage\": \"\", \"exceptionClass\": \"\", \"trace\": \"\", \"outcomeType\": 4}}, \"*\")"
      ],
      "text/plain": [
       "<IPython.core.display.Javascript object>"
      ]
     },
     "metadata": {},
     "output_type": "display_data"
    },
    {
     "data": {
      "text/markdown": [
       "<span style=\"color:#33cc99\">Solution:</span> \n",
       "```python\n",
       "def is_valid_zip(zip_str):\n",
       "    return len(zip_str) == 5 and zip_str.isdigit()\n",
       "```"
      ],
      "text/plain": [
       "Solution: \n",
       "```python\n",
       "def is_valid_zip(zip_str):\n",
       "    return len(zip_str) == 5 and zip_str.isdigit()\n",
       "```"
      ]
     },
     "metadata": {},
     "output_type": "display_data"
    }
   ],
   "source": [
    "#q1.hint()\n",
    "q1.solution()"
   ]
  },
  {
   "cell_type": "markdown",
   "id": "1a0696a5",
   "metadata": {
    "papermill": {
     "duration": 0.023241,
     "end_time": "2021-08-08T18:43:00.222677",
     "exception": false,
     "start_time": "2021-08-08T18:43:00.199436",
     "status": "completed"
    },
    "tags": []
   },
   "source": [
    "# 2.\n",
    "\n",
    "A researcher has gathered thousands of news articles. But she wants to focus her attention on articles including a specific word. Complete the function below to help her filter her list of articles.\n",
    "\n",
    "Your function should meet the following criteria:\n",
    "\n",
    "- Do not include documents where the keyword string shows up only as a part of a larger word. For example, if she were looking for the keyword “closed”, you would not include the string “enclosed.” \n",
    "- She does not want you to distinguish upper case from lower case letters. So the phrase “Closed the case.” would be included when the keyword is “closed”\n",
    "- Do not let periods or commas affect what is matched. “It is closed.” would be included when the keyword is “closed”. But you can assume there are no other types of punctuation."
   ]
  },
  {
   "cell_type": "code",
   "execution_count": 9,
   "id": "e64fb252",
   "metadata": {
    "execution": {
     "iopub.execute_input": "2021-08-08T18:43:00.273059Z",
     "iopub.status.busy": "2021-08-08T18:43:00.272387Z",
     "iopub.status.idle": "2021-08-08T18:43:00.280584Z",
     "shell.execute_reply": "2021-08-08T18:43:00.281172Z",
     "shell.execute_reply.started": "2021-08-08T18:42:08.688946Z"
    },
    "papermill": {
     "duration": 0.03497,
     "end_time": "2021-08-08T18:43:00.281339",
     "exception": false,
     "start_time": "2021-08-08T18:43:00.246369",
     "status": "completed"
    },
    "tags": []
   },
   "outputs": [
    {
     "data": {
      "application/javascript": [
       "parent.postMessage({\"jupyterEvent\": \"custom.exercise_interaction\", \"data\": {\"outcomeType\": 1, \"valueTowardsCompletion\": 0.3333333333333333, \"interactionType\": 1, \"questionType\": 2, \"questionId\": \"2_WordSearch\", \"learnToolsVersion\": \"0.3.4\", \"failureMessage\": \"\", \"exceptionClass\": \"\", \"trace\": \"\"}}, \"*\")"
      ],
      "text/plain": [
       "<IPython.core.display.Javascript object>"
      ]
     },
     "metadata": {},
     "output_type": "display_data"
    },
    {
     "data": {
      "text/markdown": [
       "<span style=\"color:#33cc33\">Correct</span>"
      ],
      "text/plain": [
       "Correct"
      ]
     },
     "metadata": {},
     "output_type": "display_data"
    }
   ],
   "source": [
    "def word_search(doc_list, keyword):\n",
    "    \"\"\"\n",
    "    Takes a list of documents (each document is a string) and a keyword. \n",
    "    Returns list of the index values into the original list for all documents \n",
    "    containing the keyword.\n",
    "\n",
    "    Example:\n",
    "    doc_list = [\"The Learn Python Challenge Casino.\", \"They bought a car\", \"Casinoville\"]\n",
    "    >>> word_search(doc_list, 'casino')\n",
    "    >>> [0]\n",
    "    \"\"\"\n",
    "    index=list()\n",
    "    for ele in doc_list:\n",
    "        ele_ls=ele.split()\n",
    "        word_ls=[word.lower().rstrip('.,') for word in ele_ls]\n",
    "        if keyword in word_ls:\n",
    "            index.append(doc_list.index(ele))\n",
    "    return index\n",
    "\n",
    "# Check your answer\n",
    "q2.check()"
   ]
  },
  {
   "cell_type": "code",
   "execution_count": 10,
   "id": "2362c702",
   "metadata": {
    "execution": {
     "iopub.execute_input": "2021-08-08T18:43:00.335009Z",
     "iopub.status.busy": "2021-08-08T18:43:00.334385Z",
     "iopub.status.idle": "2021-08-08T18:43:00.338347Z",
     "shell.execute_reply": "2021-08-08T18:43:00.337808Z",
     "shell.execute_reply.started": "2021-08-08T18:42:11.342249Z"
    },
    "papermill": {
     "duration": 0.031283,
     "end_time": "2021-08-08T18:43:00.338501",
     "exception": false,
     "start_time": "2021-08-08T18:43:00.307218",
     "status": "completed"
    },
    "tags": []
   },
   "outputs": [],
   "source": [
    "#q2.hint()\n",
    "#q2.solution()"
   ]
  },
  {
   "cell_type": "markdown",
   "id": "f7e1a102",
   "metadata": {
    "papermill": {
     "duration": 0.028533,
     "end_time": "2021-08-08T18:43:00.394023",
     "exception": false,
     "start_time": "2021-08-08T18:43:00.365490",
     "status": "completed"
    },
    "tags": []
   },
   "source": [
    "# 3.\n",
    "\n",
    "Now the researcher wants to supply multiple keywords to search for. Complete the function below to help her.\n",
    "\n",
    "(You're encouraged to use the `word_search` function you just wrote when implementing this function. Reusing code in this way makes your programs more robust and readable - and it saves typing!)"
   ]
  },
  {
   "cell_type": "code",
   "execution_count": 11,
   "id": "735eee5d",
   "metadata": {
    "execution": {
     "iopub.execute_input": "2021-08-08T18:43:00.460273Z",
     "iopub.status.busy": "2021-08-08T18:43:00.459346Z",
     "iopub.status.idle": "2021-08-08T18:43:00.470119Z",
     "shell.execute_reply": "2021-08-08T18:43:00.469505Z",
     "shell.execute_reply.started": "2021-08-08T18:42:35.704683Z"
    },
    "papermill": {
     "duration": 0.044266,
     "end_time": "2021-08-08T18:43:00.470268",
     "exception": false,
     "start_time": "2021-08-08T18:43:00.426002",
     "status": "completed"
    },
    "tags": []
   },
   "outputs": [
    {
     "data": {
      "application/javascript": [
       "parent.postMessage({\"jupyterEvent\": \"custom.exercise_interaction\", \"data\": {\"outcomeType\": 1, \"valueTowardsCompletion\": 0.3333333333333333, \"interactionType\": 1, \"questionType\": 2, \"questionId\": \"3_MultiWordSearch\", \"learnToolsVersion\": \"0.3.4\", \"failureMessage\": \"\", \"exceptionClass\": \"\", \"trace\": \"\"}}, \"*\")"
      ],
      "text/plain": [
       "<IPython.core.display.Javascript object>"
      ]
     },
     "metadata": {},
     "output_type": "display_data"
    },
    {
     "data": {
      "text/markdown": [
       "<span style=\"color:#33cc33\">Correct</span>"
      ],
      "text/plain": [
       "Correct"
      ]
     },
     "metadata": {},
     "output_type": "display_data"
    }
   ],
   "source": [
    "def multi_word_search(doc_list, keywords):\n",
    "    \"\"\"\n",
    "    Takes list of documents (each document is a string) and a list of keywords.  \n",
    "    Returns a dictionary where each key is a keyword, and the value is a list of indices\n",
    "    (from doc_list) of the documents containing that keyword\n",
    "\n",
    "    >>> doc_list = [\"The Learn Python Challenge Casino.\", \"They bought a car and a casino\", \"Casinoville\"]\n",
    "    >>> keywords = ['casino', 'they']\n",
    "    >>> multi_word_search(doc_list, keywords)\n",
    "    {'casino': [0, 1], 'they': [1]}\n",
    "    \"\"\"\n",
    "    word_dic={}\n",
    "    for word in keywords:\n",
    "        word_ind=list()\n",
    "        for i,ele in enumerate(doc_list):\n",
    "            ele_ls=ele.split()\n",
    "            word_ls=[item.lower().rstrip('.,') for item in ele_ls]\n",
    "            if word.lower() in word_ls:\n",
    "                word_ind.append(i)\n",
    "        word_dic[word]=word_ind\n",
    "    return word_dic\n",
    "\n",
    "# Check your answer\n",
    "q3.check()"
   ]
  },
  {
   "cell_type": "code",
   "execution_count": 12,
   "id": "77b1f3b4",
   "metadata": {
    "execution": {
     "iopub.execute_input": "2021-08-08T18:43:00.524630Z",
     "iopub.status.busy": "2021-08-08T18:43:00.523961Z",
     "iopub.status.idle": "2021-08-08T18:43:00.528517Z",
     "shell.execute_reply": "2021-08-08T18:43:00.527886Z",
     "shell.execute_reply.started": "2021-08-08T18:42:37.003431Z"
    },
    "papermill": {
     "duration": 0.032884,
     "end_time": "2021-08-08T18:43:00.528658",
     "exception": false,
     "start_time": "2021-08-08T18:43:00.495774",
     "status": "completed"
    },
    "tags": []
   },
   "outputs": [],
   "source": [
    "#q3.solution()"
   ]
  },
  {
   "cell_type": "markdown",
   "id": "f5abc32b",
   "metadata": {
    "papermill": {
     "duration": 0.025204,
     "end_time": "2021-08-08T18:43:00.579695",
     "exception": false,
     "start_time": "2021-08-08T18:43:00.554491",
     "status": "completed"
    },
    "tags": []
   },
   "source": [
    "# Keep Going\n",
    "\n",
    "You've learned a lot. But even the best programmers rely heavily on \"libraries\" of code from other programmers. You'll learn about that in **[the last lesson](https://www.kaggle.com/colinmorris/working-with-external-libraries)**.\n"
   ]
  },
  {
   "cell_type": "markdown",
   "id": "0e96deb4",
   "metadata": {
    "papermill": {
     "duration": 0.025543,
     "end_time": "2021-08-08T18:43:00.631735",
     "exception": false,
     "start_time": "2021-08-08T18:43:00.606192",
     "status": "completed"
    },
    "tags": []
   },
   "source": [
    "---\n",
    "\n",
    "\n",
    "\n",
    "\n",
    "*Have questions or comments? Visit the [Learn Discussion forum](https://www.kaggle.com/learn-forum/161283) to chat with other Learners.*"
   ]
  }
 ],
 "metadata": {
  "kernelspec": {
   "display_name": "Python 3",
   "language": "python",
   "name": "python3"
  },
  "language_info": {
   "codemirror_mode": {
    "name": "ipython",
    "version": 3
   },
   "file_extension": ".py",
   "mimetype": "text/x-python",
   "name": "python",
   "nbconvert_exporter": "python",
   "pygments_lexer": "ipython3",
   "version": "3.7.10"
  },
  "papermill": {
   "default_parameters": {},
   "duration": 10.354635,
   "end_time": "2021-08-08T18:43:01.267107",
   "environment_variables": {},
   "exception": null,
   "input_path": "__notebook__.ipynb",
   "output_path": "__notebook__.ipynb",
   "parameters": {},
   "start_time": "2021-08-08T18:42:50.912472",
   "version": "2.3.3"
  }
 },
 "nbformat": 4,
 "nbformat_minor": 5
}
