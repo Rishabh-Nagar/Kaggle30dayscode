{
 "cells": [
  {
   "cell_type": "markdown",
   "id": "8371ee80",
   "metadata": {
    "papermill": {
     "duration": 0.013493,
     "end_time": "2021-08-08T18:29:39.307939",
     "exception": false,
     "start_time": "2021-08-08T18:29:39.294446",
     "status": "completed"
    },
    "tags": []
   },
   "source": [
    "**This notebook is an exercise in the [Python](https://www.kaggle.com/learn/python) course.  You can reference the tutorial at [this link](https://www.kaggle.com/colinmorris/loops-and-list-comprehensions).**\n",
    "\n",
    "---\n"
   ]
  },
  {
   "cell_type": "markdown",
   "id": "63129c8c",
   "metadata": {
    "papermill": {
     "duration": 0.011603,
     "end_time": "2021-08-08T18:29:39.333876",
     "exception": false,
     "start_time": "2021-08-08T18:29:39.322273",
     "status": "completed"
    },
    "tags": []
   },
   "source": [
    "With all you've learned, you can start writing much more interesting programs. See if you can solve the problems below.\n",
    "\n",
    "As always, run the setup code below before working on the questions."
   ]
  },
  {
   "cell_type": "code",
   "execution_count": 1,
   "id": "0812c2a2",
   "metadata": {
    "execution": {
     "iopub.execute_input": "2021-08-08T18:29:39.363269Z",
     "iopub.status.busy": "2021-08-08T18:29:39.361625Z",
     "iopub.status.idle": "2021-08-08T18:29:39.486396Z",
     "shell.execute_reply": "2021-08-08T18:29:39.485115Z",
     "shell.execute_reply.started": "2021-08-08T18:11:17.630778Z"
    },
    "papermill": {
     "duration": 0.14084,
     "end_time": "2021-08-08T18:29:39.486644",
     "exception": false,
     "start_time": "2021-08-08T18:29:39.345804",
     "status": "completed"
    },
    "tags": []
   },
   "outputs": [
    {
     "name": "stdout",
     "output_type": "stream",
     "text": [
      "Setup complete.\n"
     ]
    }
   ],
   "source": [
    "from learntools.core import binder; binder.bind(globals())\n",
    "from learntools.python.ex5 import *\n",
    "print('Setup complete.')"
   ]
  },
  {
   "cell_type": "markdown",
   "id": "aed7ccad",
   "metadata": {
    "papermill": {
     "duration": 0.011806,
     "end_time": "2021-08-08T18:29:39.512391",
     "exception": false,
     "start_time": "2021-08-08T18:29:39.500585",
     "status": "completed"
    },
    "tags": []
   },
   "source": [
    "# 1.\n",
    "\n",
    "Have you ever felt debugging involved a bit of luck? The following program has a bug. Try to identify the bug and fix it."
   ]
  },
  {
   "cell_type": "code",
   "execution_count": 2,
   "id": "534d3b95",
   "metadata": {
    "execution": {
     "iopub.execute_input": "2021-08-08T18:29:39.541334Z",
     "iopub.status.busy": "2021-08-08T18:29:39.540743Z",
     "iopub.status.idle": "2021-08-08T18:29:39.542928Z",
     "shell.execute_reply": "2021-08-08T18:29:39.542422Z",
     "shell.execute_reply.started": "2021-08-08T18:11:19.055103Z"
    },
    "papermill": {
     "duration": 0.018594,
     "end_time": "2021-08-08T18:29:39.543047",
     "exception": false,
     "start_time": "2021-08-08T18:29:39.524453",
     "status": "completed"
    },
    "tags": []
   },
   "outputs": [],
   "source": [
    "def has_lucky_number(nums):\n",
    "    \"\"\"Return whether the given list of numbers is lucky. A lucky list contains\n",
    "    at least one number divisible by 7.\n",
    "    \"\"\"\n",
    "    for num in nums:\n",
    "        if num % 7 == 0:\n",
    "            return True\n",
    "        else:\n",
    "            return False"
   ]
  },
  {
   "cell_type": "markdown",
   "id": "077e7ad7",
   "metadata": {
    "papermill": {
     "duration": 0.011892,
     "end_time": "2021-08-08T18:29:39.567214",
     "exception": false,
     "start_time": "2021-08-08T18:29:39.555322",
     "status": "completed"
    },
    "tags": []
   },
   "source": [
    "Try to identify the bug and fix it in the cell below:"
   ]
  },
  {
   "cell_type": "code",
   "execution_count": 3,
   "id": "030e9846",
   "metadata": {
    "execution": {
     "iopub.execute_input": "2021-08-08T18:29:39.595835Z",
     "iopub.status.busy": "2021-08-08T18:29:39.595275Z",
     "iopub.status.idle": "2021-08-08T18:29:39.601505Z",
     "shell.execute_reply": "2021-08-08T18:29:39.602005Z",
     "shell.execute_reply.started": "2021-08-08T18:11:20.582860Z"
    },
    "papermill": {
     "duration": 0.022792,
     "end_time": "2021-08-08T18:29:39.602155",
     "exception": false,
     "start_time": "2021-08-08T18:29:39.579363",
     "status": "completed"
    },
    "tags": []
   },
   "outputs": [
    {
     "data": {
      "application/javascript": [
       "parent.postMessage({\"jupyterEvent\": \"custom.exercise_interaction\", \"data\": {\"outcomeType\": 1, \"valueTowardsCompletion\": 0.25, \"interactionType\": 1, \"questionType\": 2, \"questionId\": \"1_EarlyExitDebugging\", \"learnToolsVersion\": \"0.3.4\", \"failureMessage\": \"\", \"exceptionClass\": \"\", \"trace\": \"\"}}, \"*\")"
      ],
      "text/plain": [
       "<IPython.core.display.Javascript object>"
      ]
     },
     "metadata": {},
     "output_type": "display_data"
    },
    {
     "data": {
      "text/markdown": [
       "<span style=\"color:#33cc33\">Correct:</span> \n",
       "\n",
       "Remember that `return` causes a function to exit immediately. So our original implementation always ran for just one iteration. We can only return `False` if we've looked at every element of the list (and confirmed that none of them are lucky). Though we can return early if the answer is `True`:\n",
       "\n",
       "```python\n",
       "def has_lucky_number(nums):\n",
       "    for num in nums:\n",
       "        if num % 7 == 0:\n",
       "            return True\n",
       "    # We've exhausted the list without finding a lucky number\n",
       "    return False\n",
       "```\n",
       "\n",
       "Here's a one-line version using a list comprehension with Python's `any` function (you can read about what it does by calling `help(any)`):\n",
       "\n",
       "```python\n",
       "def has_lucky_number(nums):\n",
       "    return any([num % 7 == 0 for num in nums])\n",
       "```\n"
      ],
      "text/plain": [
       "Correct: \n",
       "\n",
       "Remember that `return` causes a function to exit immediately. So our original implementation always ran for just one iteration. We can only return `False` if we've looked at every element of the list (and confirmed that none of them are lucky). Though we can return early if the answer is `True`:\n",
       "\n",
       "```python\n",
       "def has_lucky_number(nums):\n",
       "    for num in nums:\n",
       "        if num % 7 == 0:\n",
       "            return True\n",
       "    # We've exhausted the list without finding a lucky number\n",
       "    return False\n",
       "```\n",
       "\n",
       "Here's a one-line version using a list comprehension with Python's `any` function (you can read about what it does by calling `help(any)`):\n",
       "\n",
       "```python\n",
       "def has_lucky_number(nums):\n",
       "    return any([num % 7 == 0 for num in nums])\n",
       "```"
      ]
     },
     "metadata": {},
     "output_type": "display_data"
    }
   ],
   "source": [
    "def has_lucky_number(nums):\n",
    "    \"\"\"Return whether the given list of numbers is lucky. A lucky list contains\n",
    "    at least one number divisible by 7.\n",
    "    \"\"\"\n",
    "    for num in nums:\n",
    "        if num % 7 == 0:\n",
    "            return True\n",
    "    else:\n",
    "        return False\n",
    "\n",
    "# Check your answer\n",
    "q1.check()"
   ]
  },
  {
   "cell_type": "code",
   "execution_count": 4,
   "id": "fb3331f6",
   "metadata": {
    "execution": {
     "iopub.execute_input": "2021-08-08T18:29:39.631198Z",
     "iopub.status.busy": "2021-08-08T18:29:39.630648Z",
     "iopub.status.idle": "2021-08-08T18:29:39.633502Z",
     "shell.execute_reply": "2021-08-08T18:29:39.634010Z",
     "shell.execute_reply.started": "2021-08-08T18:11:21.446678Z"
    },
    "papermill": {
     "duration": 0.018742,
     "end_time": "2021-08-08T18:29:39.634155",
     "exception": false,
     "start_time": "2021-08-08T18:29:39.615413",
     "status": "completed"
    },
    "tags": []
   },
   "outputs": [],
   "source": [
    "#q1.hint()\n",
    "#q1.solution()"
   ]
  },
  {
   "cell_type": "markdown",
   "id": "6fc5936b",
   "metadata": {
    "papermill": {
     "duration": 0.015272,
     "end_time": "2021-08-08T18:29:39.663148",
     "exception": false,
     "start_time": "2021-08-08T18:29:39.647876",
     "status": "completed"
    },
    "tags": []
   },
   "source": [
    "# 2.\n",
    "Look at the Python expression below. What do you think we'll get when we run it? When you've made your prediction, uncomment the code and run the cell to see if you were right."
   ]
  },
  {
   "cell_type": "code",
   "execution_count": 5,
   "id": "a28d4a23",
   "metadata": {
    "execution": {
     "iopub.execute_input": "2021-08-08T18:29:39.691801Z",
     "iopub.status.busy": "2021-08-08T18:29:39.691258Z",
     "iopub.status.idle": "2021-08-08T18:29:39.746320Z",
     "shell.execute_reply": "2021-08-08T18:29:39.745178Z",
     "shell.execute_reply.started": "2021-08-08T18:11:22.879114Z"
    },
    "papermill": {
     "duration": 0.070282,
     "end_time": "2021-08-08T18:29:39.746583",
     "exception": true,
     "start_time": "2021-08-08T18:29:39.676301",
     "status": "failed"
    },
    "tags": []
   },
   "outputs": [
    {
     "ename": "TypeError",
     "evalue": "'>' not supported between instances of 'list' and 'int'",
     "output_type": "error",
     "traceback": [
      "\u001b[0;31m---------------------------------------------------------------------------\u001b[0m",
      "\u001b[0;31mTypeError\u001b[0m                                 Traceback (most recent call last)",
      "\u001b[0;32m<ipython-input-5-6f064fcfe2b9>\u001b[0m in \u001b[0;36m<module>\u001b[0;34m\u001b[0m\n\u001b[0;32m----> 1\u001b[0;31m \u001b[0;34m[\u001b[0m\u001b[0;36m1\u001b[0m\u001b[0;34m,\u001b[0m \u001b[0;36m2\u001b[0m\u001b[0;34m,\u001b[0m \u001b[0;36m3\u001b[0m\u001b[0;34m,\u001b[0m \u001b[0;36m4\u001b[0m\u001b[0;34m]\u001b[0m \u001b[0;34m>\u001b[0m \u001b[0;36m2\u001b[0m\u001b[0;34m\u001b[0m\u001b[0;34m\u001b[0m\u001b[0m\n\u001b[0m",
      "\u001b[0;31mTypeError\u001b[0m: '>' not supported between instances of 'list' and 'int'"
     ]
    }
   ],
   "source": [
    "[1, 2, 3, 4] > 2"
   ]
  },
  {
   "cell_type": "markdown",
   "id": "eed76b45",
   "metadata": {
    "papermill": {
     "duration": null,
     "end_time": null,
     "exception": null,
     "start_time": null,
     "status": "pending"
    },
    "tags": []
   },
   "source": [
    "R and Python have some libraries (like numpy and pandas) compare each element of the list to 2 (i.e. do an 'element-wise' comparison) and give us a list of booleans like `[False, False, True, True]`. \n",
    "\n",
    "Implement a function that reproduces this behaviour, returning a list of booleans corresponding to whether the corresponding element is greater than n."
   ]
  },
  {
   "cell_type": "code",
   "execution_count": null,
   "id": "5d2b155d",
   "metadata": {
    "execution": {
     "iopub.execute_input": "2021-08-08T18:11:24.657581Z",
     "iopub.status.busy": "2021-08-08T18:11:24.657201Z",
     "iopub.status.idle": "2021-08-08T18:11:24.669540Z",
     "shell.execute_reply": "2021-08-08T18:11:24.668206Z",
     "shell.execute_reply.started": "2021-08-08T18:11:24.657547Z"
    },
    "papermill": {
     "duration": null,
     "end_time": null,
     "exception": null,
     "start_time": null,
     "status": "pending"
    },
    "tags": []
   },
   "outputs": [],
   "source": [
    "def elementwise_greater_than(L, thresh):\n",
    "    \"\"\"Return a list with the same length as L, where the value at index i is \n",
    "    True if L[i] is greater than thresh, and False otherwise.\n",
    "    \n",
    "    >>> elementwise_greater_than([1, 2, 3, 4], 2)\n",
    "    [False, False, True, True]\n",
    "    \"\"\"\n",
    "    a = []\n",
    "    for i in L:\n",
    "        if i > thresh:\n",
    "            a.append(True)\n",
    "        else:\n",
    "            a.append(False)\n",
    "            \n",
    "    return a\n",
    "\n",
    "# Check your answer\n",
    "q2.check()"
   ]
  },
  {
   "cell_type": "code",
   "execution_count": null,
   "id": "0afb6ff7",
   "metadata": {
    "execution": {
     "iopub.execute_input": "2021-08-08T18:11:27.062527Z",
     "iopub.status.busy": "2021-08-08T18:11:27.062158Z",
     "iopub.status.idle": "2021-08-08T18:11:27.067182Z",
     "shell.execute_reply": "2021-08-08T18:11:27.065835Z",
     "shell.execute_reply.started": "2021-08-08T18:11:27.062496Z"
    },
    "papermill": {
     "duration": null,
     "end_time": null,
     "exception": null,
     "start_time": null,
     "status": "pending"
    },
    "tags": []
   },
   "outputs": [],
   "source": [
    "#q2.solution()"
   ]
  },
  {
   "cell_type": "markdown",
   "id": "5d4a38b0",
   "metadata": {
    "papermill": {
     "duration": null,
     "end_time": null,
     "exception": null,
     "start_time": null,
     "status": "pending"
    },
    "tags": []
   },
   "source": [
    "# 3.\n",
    "\n",
    "Complete the body of the function below according to its docstring."
   ]
  },
  {
   "cell_type": "code",
   "execution_count": null,
   "id": "25a79d2f",
   "metadata": {
    "execution": {
     "iopub.execute_input": "2021-08-08T18:11:28.592128Z",
     "iopub.status.busy": "2021-08-08T18:11:28.591596Z",
     "iopub.status.idle": "2021-08-08T18:11:28.601282Z",
     "shell.execute_reply": "2021-08-08T18:11:28.600217Z",
     "shell.execute_reply.started": "2021-08-08T18:11:28.592093Z"
    },
    "papermill": {
     "duration": null,
     "end_time": null,
     "exception": null,
     "start_time": null,
     "status": "pending"
    },
    "tags": []
   },
   "outputs": [],
   "source": [
    "def menu_is_boring(meals):\n",
    "    \"\"\"Given a list of meals served over some period of time, return True if the\n",
    "    same meal has ever been served two days in a row, and False otherwise.\n",
    "    \"\"\"\n",
    "\n",
    "    for i in range(len(meals)-1):\n",
    "        if meals[i] == meals[i+1]:\n",
    "            return True\n",
    "        \n",
    "    \n",
    "    return False\n",
    "        \n",
    "    \n",
    "\n",
    "# Check your answer\n",
    "q3.check()"
   ]
  },
  {
   "cell_type": "code",
   "execution_count": null,
   "id": "f5438585",
   "metadata": {
    "execution": {
     "iopub.execute_input": "2021-08-08T18:11:29.359497Z",
     "iopub.status.busy": "2021-08-08T18:11:29.359087Z",
     "iopub.status.idle": "2021-08-08T18:11:29.372268Z",
     "shell.execute_reply": "2021-08-08T18:11:29.371507Z",
     "shell.execute_reply.started": "2021-08-08T18:11:29.359457Z"
    },
    "papermill": {
     "duration": null,
     "end_time": null,
     "exception": null,
     "start_time": null,
     "status": "pending"
    },
    "tags": []
   },
   "outputs": [],
   "source": [
    "q3.hint()\n",
    "q3.solution()"
   ]
  },
  {
   "cell_type": "markdown",
   "id": "2b924543",
   "metadata": {
    "papermill": {
     "duration": null,
     "end_time": null,
     "exception": null,
     "start_time": null,
     "status": "pending"
    },
    "tags": []
   },
   "source": [
    "# 4. <span title=\"A bit spicy\" style=\"color: darkgreen \">🌶️</span>\n",
    "\n",
    "Next to the Blackjack table, the Python Challenge Casino has a slot machine. You can get a result from the slot machine by calling `play_slot_machine()`. The number it returns is your winnings in dollars. Usually it returns 0.  But sometimes you'll get lucky and get a big payday. Try running it below:"
   ]
  },
  {
   "cell_type": "code",
   "execution_count": null,
   "id": "1d580e8f",
   "metadata": {
    "execution": {
     "iopub.execute_input": "2021-08-08T18:25:05.191579Z",
     "iopub.status.busy": "2021-08-08T18:25:05.191117Z",
     "iopub.status.idle": "2021-08-08T18:25:05.199071Z",
     "shell.execute_reply": "2021-08-08T18:25:05.197753Z",
     "shell.execute_reply.started": "2021-08-08T18:25:05.191544Z"
    },
    "papermill": {
     "duration": null,
     "end_time": null,
     "exception": null,
     "start_time": null,
     "status": "pending"
    },
    "tags": []
   },
   "outputs": [],
   "source": [
    "play_slot_machine()"
   ]
  },
  {
   "cell_type": "markdown",
   "id": "2c1e4e0e",
   "metadata": {
    "papermill": {
     "duration": null,
     "end_time": null,
     "exception": null,
     "start_time": null,
     "status": "pending"
    },
    "tags": []
   },
   "source": [
    "By the way, did we mention that each play costs $1? Don't worry, we'll send you the bill later.\n",
    "\n",
    "On average, how much money can you expect to gain (or lose) every time you play the machine?  The casino keeps it a secret, but you can estimate the average value of each pull using a technique called the **Monte Carlo method**. To estimate the average outcome, we simulate the scenario many times, and return the average result.\n",
    "\n",
    "Complete the following function to calculate the average value per play of the slot machine."
   ]
  },
  {
   "cell_type": "code",
   "execution_count": null,
   "id": "567804b2",
   "metadata": {
    "execution": {
     "iopub.execute_input": "2021-08-08T18:29:06.505363Z",
     "iopub.status.busy": "2021-08-08T18:29:06.505018Z",
     "iopub.status.idle": "2021-08-08T18:29:06.855494Z",
     "shell.execute_reply": "2021-08-08T18:29:06.854006Z",
     "shell.execute_reply.started": "2021-08-08T18:29:06.505333Z"
    },
    "papermill": {
     "duration": null,
     "end_time": null,
     "exception": null,
     "start_time": null,
     "status": "pending"
    },
    "tags": []
   },
   "outputs": [],
   "source": [
    "def estimate_average_slot_payout(n_runs):\n",
    "    \"\"\"Run the slot machine n_runs times and return the average net profit per run.\n",
    "    Example calls (note that return value is nondeterministic!):\n",
    "    >>> estimate_average_slot_payout(1)\n",
    "    -1\n",
    "    >>> estimate_average_slot_payout(1)\n",
    "    0.5\n",
    "    \"\"\"\n",
    "    \n",
    "    play_slot_machine_results = [ play_slot_machine() for i in range(n_runs) ]\n",
    "    total = float(sum(play_slot_machine_results))\n",
    "    total = total - n_runs\n",
    "    return (total/n_runs)\n",
    "    \n",
    "print(estimate_average_slot_payout(1000000))"
   ]
  },
  {
   "cell_type": "markdown",
   "id": "7ce7a74e",
   "metadata": {
    "papermill": {
     "duration": null,
     "end_time": null,
     "exception": null,
     "start_time": null,
     "status": "pending"
    },
    "tags": []
   },
   "source": [
    "When you think you know the expected value per spin, run the code cell below to view the solution and get credit for answering the question."
   ]
  },
  {
   "cell_type": "code",
   "execution_count": null,
   "id": "d4a1d057",
   "metadata": {
    "execution": {
     "iopub.execute_input": "2021-08-08T18:28:40.848572Z",
     "iopub.status.busy": "2021-08-08T18:28:40.848189Z",
     "iopub.status.idle": "2021-08-08T18:28:40.856086Z",
     "shell.execute_reply": "2021-08-08T18:28:40.855142Z",
     "shell.execute_reply.started": "2021-08-08T18:28:40.848537Z"
    },
    "papermill": {
     "duration": null,
     "end_time": null,
     "exception": null,
     "start_time": null,
     "status": "pending"
    },
    "tags": []
   },
   "outputs": [],
   "source": [
    "# Check your answer (Run this code cell to receive credit!)\n",
    "q4.solution()"
   ]
  },
  {
   "cell_type": "markdown",
   "id": "c2da7954",
   "metadata": {
    "papermill": {
     "duration": null,
     "end_time": null,
     "exception": null,
     "start_time": null,
     "status": "pending"
    },
    "tags": []
   },
   "source": [
    "# Keep Going\n",
    "\n",
    "Many programmers report that dictionaries are their favorite data structure. You'll get to **[learn about them](https://www.kaggle.com/colinmorris/strings-and-dictionaries)** (as well as strings) in the next lesson."
   ]
  },
  {
   "cell_type": "markdown",
   "id": "6cf8e1e9",
   "metadata": {
    "papermill": {
     "duration": null,
     "end_time": null,
     "exception": null,
     "start_time": null,
     "status": "pending"
    },
    "tags": []
   },
   "source": [
    "---\n",
    "\n",
    "\n",
    "\n",
    "\n",
    "*Have questions or comments? Visit the [Learn Discussion forum](https://www.kaggle.com/learn-forum/161283) to chat with other Learners.*"
   ]
  }
 ],
 "metadata": {
  "kernelspec": {
   "display_name": "Python 3",
   "language": "python",
   "name": "python3"
  },
  "language_info": {
   "codemirror_mode": {
    "name": "ipython",
    "version": 3
   },
   "file_extension": ".py",
   "mimetype": "text/x-python",
   "name": "python",
   "nbconvert_exporter": "python",
   "pygments_lexer": "ipython3",
   "version": "3.7.10"
  },
  "papermill": {
   "default_parameters": {},
   "duration": 8.729812,
   "end_time": "2021-08-08T18:29:41.308776",
   "environment_variables": {},
   "exception": true,
   "input_path": "__notebook__.ipynb",
   "output_path": "__notebook__.ipynb",
   "parameters": {},
   "start_time": "2021-08-08T18:29:32.578964",
   "version": "2.3.3"
  }
 },
 "nbformat": 4,
 "nbformat_minor": 5
}
